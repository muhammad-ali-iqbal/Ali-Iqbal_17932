{
  "nbformat": 4,
  "nbformat_minor": 0,
  "metadata": {
    "colab": {
      "name": "Untitled3.ipynb",
      "provenance": []
    },
    "kernelspec": {
      "name": "python3",
      "display_name": "Python 3"
    },
    "language_info": {
      "name": "python"
    }
  },
  "cells": [
    {
      "cell_type": "code",
      "execution_count": null,
      "metadata": {
        "id": "lQlfRa59gm2t"
      },
      "outputs": [],
      "source": [
        ""
      ]
    },
    {
      "cell_type": "code",
      "source": [
        "str = hashlib.sha512(b'Muhammad Ali Iqbal')\n",
        "str_hex = str.hexdigest()\n",
        "print(str_hex)"
      ],
      "metadata": {
        "id": "BXL9C6F7krk1",
        "outputId": "af1c315e-94a6-47fb-b8df-71e9aeac4f61",
        "colab": {
          "base_uri": "https://localhost:8080/"
        }
      },
      "execution_count": null,
      "outputs": [
        {
          "output_type": "stream",
          "name": "stdout",
          "text": [
            "dad90e0d2e9557d5e34aa58ddd0d603cdb258c4a02aeb89a41469939eeadea86dd95dae50aed58437e24f688e2bb8377f65bcdcde41d4b0eb7ab28d54c3e7c57\n"
          ]
        }
      ]
    }
  ]
}